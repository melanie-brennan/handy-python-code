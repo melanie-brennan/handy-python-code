{
 "cells": [
  {
   "cell_type": "code",
   "execution_count": 1,
   "metadata": {},
   "outputs": [],
   "source": [
    "def import_and_print_version():\n",
    "    \n",
    "    try:\n",
    "        import sys\n",
    "        print(\"sys version:        \", sys.version)\n",
    "        print(\"sys prefix :        \", sys.prefix)\n",
    "    except ImportError:\n",
    "        print(\"XXX Could not import sys.\")\n",
    "        \n",
    "        \n",
    "    # Packages listed in alphabetical order\n",
    "    \n",
    "    try:\n",
    "        import matplotlib as mpl\n",
    "        print(\"\\n\\nmatplotlib version: \", mpl.__version__)\n",
    "    except ImportError:\n",
    "        print(\"XXX Could not import matplotlib.\")\n",
    "        \n",
    "    try:\n",
    "        import cv2\n",
    "        print(\"Open CV version:    \", cv2.__version__)\n",
    "    except ImportError:\n",
    "        print(\"XXX Could not import Open CV.\")\n",
    "    \n",
    "    try:\n",
    "        import keras\n",
    "        print(\"Keras version:      \", keras.__version__)\n",
    "    except ImportError:\n",
    "        print(\"XXX Could not import Keras.\")\n",
    "        \n",
    "    try:\n",
    "        import lightgbm as lgb\n",
    "        print(\"Lightgbm version:      \", lgb.__version__)\n",
    "    except ImportError:\n",
    "        print(\"XXX Could not import lightgbm.\")\n",
    "    \n",
    "    try:\n",
    "        import numpy as np\n",
    "        print(\"Numpy version:      \", np.__version__)\n",
    "    except ImportError:\n",
    "        print(\"XXX Could not import numpy.\")\n",
    "    \n",
    "    try:\n",
    "        import pandas as pd\n",
    "        print(\"Pandas version:     \", pd.__version__)\n",
    "    except ImportError:\n",
    "        print(\"XXX Could not import pandas.\")\n",
    "         \n",
    "    try:\n",
    "        import PIL\n",
    "        print(\"PIL version:        \", PIL.__version__)\n",
    "    except ImportError:\n",
    "        print(\"XXX Could not import PIL.\")\n",
    "        \n",
    "    try:\n",
    "        import pydicom as pdcm\n",
    "        print(\"Pydicom version:    \", pdcm.__version__)\n",
    "    except ImportError:\n",
    "        print(\"XXX Could not import pydicom.\")\n",
    "        \n",
    "    try:\n",
    "        import scipy as sp\n",
    "        print(\"Scipy version:      \", sp.__version__)\n",
    "    except ImportError:\n",
    "        print(\"XXX Could not import scipy.\")\n",
    "        \n",
    "    try:\n",
    "        import seaborn as sns\n",
    "        print(\"Seaborn version:    \", sns.__version__)\n",
    "    except ImportError:\n",
    "        print(\"XXX Could not import seaborn.\")\n",
    "        \n",
    "    try:\n",
    "        import sklearn\n",
    "        print(\"Sklearn version:    \", sklearn.__version__)\n",
    "    except ImportError:\n",
    "        print(\"XXX Could not import sklearn.\")\n",
    "    \n",
    "    try:\n",
    "        import tensorflow as tf\n",
    "        print(\"Tensorflow version: \", tf.__version__)\n",
    "    except ImportError:\n",
    "        print(\"XXX Could not import tensorflow.\")\n",
    "        \n",
    "    try:\n",
    "        import xgboost as xgb\n",
    "        print(\"Xgboost version: \", xgb.__version__)\n",
    "    except ImportError:\n",
    "        print(\"XXX Could not import xgboost.\")"
   ]
  },
  {
   "cell_type": "code",
   "execution_count": 2,
   "metadata": {},
   "outputs": [
    {
     "name": "stdout",
     "output_type": "stream",
     "text": [
      "sys version:         3.7.6 (default, Jan  8 2020, 20:23:39) [MSC v.1916 64 bit (AMD64)]\n",
      "sys prefix :         C:\\Users\\user\\Anaconda3\\envs\\anaconda_3.7_ultimate\n",
      "\n",
      "\n",
      "matplotlib version:  3.1.1\n",
      "Open CV version:     4.3.0\n"
     ]
    },
    {
     "name": "stderr",
     "output_type": "stream",
     "text": [
      "Using TensorFlow backend.\n"
     ]
    },
    {
     "name": "stdout",
     "output_type": "stream",
     "text": [
      "Keras version:       2.3.1\n",
      "XXX Could not import lightgbm.\n",
      "Numpy version:       1.18.1\n",
      "Pandas version:      1.0.1\n",
      "PIL version:         7.1.2\n",
      "Pydicom version:     2.0.0\n",
      "Scipy version:       1.3.2\n",
      "XXX Could not import seaborn.\n",
      "Sklearn version:     0.22.1\n",
      "Tensorflow version:  2.1.0\n",
      "XXX Could not import xgboost.\n"
     ]
    }
   ],
   "source": [
    "import_and_print_version()"
   ]
  }
 ],
 "metadata": {
  "kernelspec": {
   "display_name": "Python 3",
   "language": "python",
   "name": "python3"
  },
  "language_info": {
   "codemirror_mode": {
    "name": "ipython",
    "version": 3
   },
   "file_extension": ".py",
   "mimetype": "text/x-python",
   "name": "python",
   "nbconvert_exporter": "python",
   "pygments_lexer": "ipython3",
   "version": "3.7.6"
  }
 },
 "nbformat": 4,
 "nbformat_minor": 4
}
